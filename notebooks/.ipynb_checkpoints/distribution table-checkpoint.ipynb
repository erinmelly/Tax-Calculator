{
 "cells": [
  {
   "cell_type": "code",
   "execution_count": null,
   "metadata": {},
   "outputs": [],
   "source": [
    "import os\n",
    "os.chdir(\"C:\\\\Users\\\\erin.melly\\\\Desktop\\\\GitHub\\\\Tax-Calculator\")\n",
    "import behresp\n",
    "import microdf as mdf\n",
    "from taxcalc import *\n",
    "import pandas as pd\n",
    "import numpy as np\n",
    "import copy"
   ]
  },
  {
   "cell_type": "code",
   "execution_count": null,
   "metadata": {},
   "outputs": [],
   "source": [
    "# set year\n",
    "cyr = 2022"
   ]
  },
  {
   "cell_type": "code",
   "execution_count": null,
   "metadata": {},
   "outputs": [],
   "source": [
    "# read in PUF\n",
    "puf_df = pd.read_csv(r'C:\\Users\\erin.melly\\Desktop\\GitHub\\Tax-Calculator\\PUF.csv')\n",
    "\n",
    "# dictionary of assumed elasticity each year\n",
    "cg= {2021: -4.184,\n",
    "     2022: -3.488,\n",
    "     2023: -2.76,\n",
    "     2024: -2.76,\n",
    "     2025: -2.76,\n",
    "     2026: -2.76,\n",
    "     2027: -2.76,\n",
    "     2028: -2.76,\n",
    "     2029: -2.76,\n",
    "     2030: -2.76\n",
    "    }\n",
    "# dictionary of total capital gains realization at death revenue for each year (JCT)\n",
    "realization_at_death = {2021: 204253570343, \n",
    "                        2022: 215627184994,\n",
    "                        2023: 226688939254, \n",
    "                        2024: 235220544654,\n",
    "                        2025: 243736672365,\n",
    "                        2026: 245533163473,\n",
    "                        2027: 254865207631,\n",
    "                        2028: 264380671657,\n",
    "                        2029: 274178230759,\n",
    "                        2030: 284077457991\n",
    "                       }\n",
    "# dictionary of computed annual revenue increase from business-side tax reforms for each year\n",
    "business_revenue = {2021: 168300000000,\n",
    "                    2022: 177500000000,\n",
    "                    2023: 188100000000, \n",
    "                    2024: 198100000000,\n",
    "                    2025: 207500000000,\n",
    "                    2026: 209300000000,\n",
    "                    2027: 219100000000,\n",
    "                    2028: 224300000000,\n",
    "                    2029: 230600000000,\n",
    "                    2030: 237400000000\n",
    "                   }"
   ]
  },
  {
   "cell_type": "code",
   "execution_count": null,
   "metadata": {},
   "outputs": [],
   "source": [
    "# CREATE VARIABLES FOR THE MODIFIED PUF (taxliab_inc; gains_at_death)\n",
    "\n",
    "# IMPUTED CAPITAL GAINS REALIZED AT DEATH\n",
    "# share of capital gains\n",
    "puf_df = puf_df.assign(ltgains_weight = (puf_df['p23250'] * puf_df['s006']) / sum(puf_df['p23250'] * puf_df['s006']))\n",
    "puf_df.loc[(puf_df['p23250'] > 0), 'ltgains_weight'] = (puf_df.loc[(puf_df['p23250'] > 0), 'p23250'] * puf_df.loc[(puf_df['p23250'] > 0), 's006']) \\\n",
    "/ sum(puf_df.loc[(puf_df['p23250'] > 0), 'p23250'] * puf_df.loc[(puf_df['p23250'] > 0), 's006'])\n",
    "# assign total realization at death revenue from JCT to taxpayers based on capital gains weight\n",
    "puf_df['gains_at_death'] = (puf_df['ltgains_weight'] * realization_at_death[cyr]) / (puf_df['s006'] / 100) "
   ]
  },
  {
   "cell_type": "code",
   "execution_count": null,
   "metadata": {},
   "outputs": [],
   "source": [
    "# INCREASE IN LIABILITY FROM BUSINESS TAXATION PROVISIONS\n",
    "# 20% of burden to wages\n",
    "wage_rev_share = 0.2 * business_revenue[cyr]\n",
    "# share of wages\n",
    "puf_df = puf_df.assign(wage_weight = (puf_df['e00200'] * puf_df['s006']) / sum(puf_df['e00200'] * puf_df['s006']))\n",
    "puf_df.loc[(puf_df['e00200'] > 0), 'wage_weight'] = (puf_df.loc[(puf_df['e00200'] > 0), 'e00200'] * puf_df.loc[(puf_df['e00200'] > 0), 's006']) \\\n",
    "/ sum(puf_df.loc[(puf_df['e00200'] > 0), 'e00200'] * puf_df.loc[(puf_df['e00200'] > 0), 's006'])\n",
    "# assign total realization at death revenue from JCT to taxpayers based on capital gains weight\n",
    "puf_df['taxliab_w'] = (puf_df['wage_weight'] * wage_rev_share) / (puf_df['s006'] / 100)\n",
    "\n",
    "# 80% of burden to capital\n",
    "cap_rev_share = 0.8 * business_revenue[cyr]\n",
    "# total capital\n",
    "puf_df['capital'] = puf_df['p22250'] + puf_df['p23250'] + puf_df['e00650'] + puf_df['e00650'] + puf_df['e00300'] + puf_df['e02000']\n",
    "#puf_df.loc[puf_df['capital'] < 0, 'capital'] = 0\n",
    "# share of capital\n",
    "puf_df = puf_df.assign(capital_weight = (puf_df['capital'] * puf_df['s006']) / sum(puf_df['capital'] * puf_df['s006']))\n",
    "puf_df.loc[(puf_df['capital'] > 0), 'capital_weight'] = (puf_df.loc[(puf_df['capital'] > 0), 'capital'] * puf_df.loc[(puf_df['capital'] > 0), 's006']) \\\n",
    "/ sum(puf_df.loc[(puf_df['capital'] > 0), 'capital'] * puf_df.loc[(puf_df['capital'] > 0), 's006'])\n",
    "# assign total realization at death revenue from JCT to taxpayers based on capital gains weight\n",
    "puf_df['taxliab_c'] = (puf_df['capital_weight'] *  cap_rev_share) / (puf_df['s006'] / 100)\n",
    "\n",
    "# taxpayers' overall tax liabiity increase from business provisions\n",
    "puf_df['taxliab_inc'] = puf_df['taxliab_w'] + puf_df['taxliab_c']"
   ]
  },
  {
   "cell_type": "code",
   "execution_count": null,
   "metadata": {},
   "outputs": [],
   "source": [
    "# KEY\n",
    "(puf_df['taxliab_inc']*puf_df['s006'] / 100 ).sum()/ 1e9"
   ]
  },
  {
   "cell_type": "code",
   "execution_count": null,
   "metadata": {},
   "outputs": [],
   "source": [
    "# current law calculator\n",
    "rec = Records(data=puf_df)\n",
    "pol = Policy()\n",
    "calc= Calculator(pol, rec)\n",
    "calc.advance_to_year(cyr)\n",
    "calc.calc_all()\n",
    "df = calc.dataframe([], all_vars=True)\n",
    "rev1static = calc.weighted_total('combined')"
   ]
  },
  {
   "cell_type": "code",
   "execution_count": null,
   "metadata": {},
   "outputs": [],
   "source": [
    "# Biden policy calculator\n",
    "rec = Records(data=puf)\n",
    "pol = Policy()\n",
    "pol.implement_reform(Policy.read_json_reform('taxcalc\\\\reforms\\\\Biden.json'))\n",
    "calc_biden= Calculator(pol, rec)\n",
    "calc_biden.advance_to_year(cyr)\n",
    "calc_biden.calc_all()"
   ]
  },
  {
   "cell_type": "code",
   "execution_count": null,
   "metadata": {},
   "outputs": [],
   "source": [
    "calc.difference_table(calc_biden, groupby='weighted_deciles', tax_to_diff='combined')"
   ]
  },
  {
   "cell_type": "code",
   "execution_count": null,
   "metadata": {},
   "outputs": [],
   "source": []
  },
  {
   "cell_type": "code",
   "execution_count": null,
   "metadata": {},
   "outputs": [],
   "source": []
  },
  {
   "cell_type": "code",
   "execution_count": null,
   "metadata": {},
   "outputs": [],
   "source": [
    "def make_comparedf(ref_calc, base_calc, year = 2022):\n",
    "    assert type(base_calc) is Calculator\n",
    "    assert type(ref_calc) is Calculator\n",
    "#     create dataframes\n",
    "    varlist = ['iitax', 'combined', 's006', 'c00100', 'c04800', 'aftertax_income', 'expanded_income']\n",
    "    basedf = base_calc.dataframe([], all_vars=True)\n",
    "    refdf = ref_calc.dataframe([], all_vars=True)\n",
    "    comparedf = copy.deepcopy(basedf)\n",
    "    for var in varlist:\n",
    "        comparedf['ref_' + var] = refdf[var]\n",
    "    for var in varlist:\n",
    "        comparedf['chg_'+ var] = comparedf[var] - comparedf['ref_' + var]\n",
    "    return comparedf\n",
    "\n",
    "def pch_chg_data(df, num_bins, variable):\n",
    "    assert isinstance(df, pd.DataFrame)\n",
    "    weights = df['s006']\n",
    "    dfx = add_quantile_table_row_variable(df, variable, int(num_bins))\n",
    "    gdfx = dfx.groupby('table_row', as_index=False)\n",
    "    avg_series = gdfx.apply(weighted_mean, variable)\n",
    "    change_series = gdfx.apply(weighted_mean, 'chg_'+ variable)\n",
    "    pch_series = np.zeros_like(avg_series)\n",
    "    pch_series = change_series / avg_series\n",
    "    data = pd.DataFrame()\n",
    "    data['pch'] = pch_series * 100\n",
    "    return data"
   ]
  },
  {
   "cell_type": "code",
   "execution_count": null,
   "metadata": {},
   "outputs": [],
   "source": [
    "df_test = make_comparedf(calc, calc_biden, 2021)\n",
    "pch_chg_data(df_test, 10, 'aftertax_income')"
   ]
  },
  {
   "cell_type": "code",
   "execution_count": null,
   "metadata": {},
   "outputs": [],
   "source": [
    "df_out = puf_df[['RECID', 's006', 'p23250', 'gains_at_death']]\n",
    "df_out.to_csv(r'C:\\Users\\erin.melly\\Dropbox\\CCC project\\modified_PUF.csv')"
   ]
  },
  {
   "cell_type": "code",
   "execution_count": null,
   "metadata": {},
   "outputs": [],
   "source": []
  }
 ],
 "metadata": {
  "kernelspec": {
   "display_name": "Python 3",
   "language": "python",
   "name": "python3"
  },
  "language_info": {
   "codemirror_mode": {
    "name": "ipython",
    "version": 3
   },
   "file_extension": ".py",
   "mimetype": "text/x-python",
   "name": "python",
   "nbconvert_exporter": "python",
   "pygments_lexer": "ipython3",
   "version": "3.7.5"
  }
 },
 "nbformat": 4,
 "nbformat_minor": 4
}
