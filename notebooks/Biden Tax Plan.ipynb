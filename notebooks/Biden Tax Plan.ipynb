{
 "cells": [
  {
   "cell_type": "code",
   "execution_count": null,
   "metadata": {},
   "outputs": [],
   "source": [
    "import os\n",
    "os.chdir(\"C:\\\\Users\\\\erin.melly\\\\Desktop\\\\GitHub\\\\Tax-Calculator\")\n",
    "import behresp\n",
    "import microdf as mdf\n",
    "from taxcalc import *\n",
    "import pandas as pd\n",
    "import numpy as np\n",
    "import copy"
   ]
  },
  {
   "cell_type": "code",
   "execution_count": null,
   "metadata": {},
   "outputs": [],
   "source": [
    "# read in PUF\n",
    "puf_df = pd.read_csv(r'C:\\Users\\erin.melly\\Desktop\\GitHub\\Tax-Calculator\\PUF.csv')\n",
    "\n",
    "# set year\n",
    "cyr = 2027\n",
    "\n",
    "# elasticity dictionary \n",
    "cg= {2021: -4.184,\n",
    "     2022: -3.488,\n",
    "     2023: -2.76,\n",
    "     2024: -2.76,\n",
    "     2025: -2.76,\n",
    "     2026: -2.76,\n",
    "     2027: -2.76,\n",
    "     2028: -2.76,\n",
    "     2029: -2.76,\n",
    "     2030: -2.76\n",
    "    }\n",
    "# capital gains realization at death dictionary\n",
    "realization_at_death = {2021: 204253570343, \n",
    "                        2022: 215627184994,\n",
    "                        2023: 226688939254, \n",
    "                        2024: 235220544654,\n",
    "                        2025: 243736672365,\n",
    "                        2026: 245533163473,\n",
    "                        2027: 254865207631,\n",
    "                        2028: 264380671657,\n",
    "                        2029: 274178230759,\n",
    "                        2030: 284077457991\n",
    "                       }"
   ]
  },
  {
   "cell_type": "code",
   "execution_count": null,
   "metadata": {},
   "outputs": [],
   "source": [
    "# create new variable for gains taxed at death in PUF\n",
    "\n",
    "# share of capital gains\n",
    "puf_df = puf_df.assign(ltgains_weight = (puf_df['p23250'] * puf_df['s006']) / sum(puf_df['p23250'] * puf_df['s006']))\n",
    "#puf_df.loc[(puf_df['p23250'] > 0), 'ltgains_weight'] = (puf_df.loc[(puf_df['p23250'] > 0), 'p23250'] * puf_df.loc[(puf_df['p23250'] > 0), 's006']) \\\n",
    "#/ sum(puf_df.loc[(puf_df['p23250'] > 0), 'p23250'] * puf_df.loc[(puf_df['p23250'] > 0), 's006'])\n",
    "# assign total realization at death revenue from JCT to taxpayers based on capital gains weight\n",
    "puf_df['gains_at_death'] = (puf_df['ltgains_weight'] * realization_at_death[cyr]) / (puf_df['s006'] / 100) "
   ]
  },
  {
   "cell_type": "code",
   "execution_count": null,
   "metadata": {},
   "outputs": [],
   "source": [
    "# current law calculator\n",
    "rec = Records(data= puf_df)\n",
    "pol = Policy()\n",
    "calc= Calculator(pol, rec)\n",
    "calc.advance_to_year(cyr)\n",
    "calc.calc_all()\n",
    "df = calc.dataframe([], all_vars=True)\n",
    "rev1static = calc.weighted_total('combined')"
   ]
  },
  {
   "cell_type": "code",
   "execution_count": null,
   "metadata": {},
   "outputs": [],
   "source": [
    "# Revenue Change from Reform, with Behavioral Responses\n",
    "\n",
    "# specify Calculator object for static analysis of reform policy\n",
    "pol.implement_reform(Policy.read_json_reform('taxcalc\\\\reforms\\\\Biden.json'))\n",
    "calc2 = Calculator(pol, rec)\n",
    "\n",
    "# calculate reform income tax liabilities for cyr under static assumptions\n",
    "calc2.advance_to_year(cyr)\n",
    "calc2.calc_all()\n",
    "rev2static = calc2.weighted_total('combined')\n",
    "\n",
    "# specify assumed non-zero response-function substitution elasticity\n",
    "response_elasticities = {'sub': 0.25,\n",
    "                         'cg': cg[cyr]}\n",
    "\n",
    "# specify Calculator object for analysis of reform with behavioral responses\n",
    "calc2 = Calculator(policy=pol, records=rec)\n",
    "calc2.advance_to_year(cyr)\n",
    "_, df2br = behresp.response(calc, calc2, response_elasticities)\n",
    "\n",
    "# calculate reform income tax liabilities for cyr with behavioral response\n",
    "rev2br = (df2br['combined'] * df2br['s006']).sum()\n",
    "\n",
    "# print total income tax revenue estimates for cyr (estimates in billons of dollars)\n",
    "print('{}_DYNAMIC_DIFERENCE_tot_rev($B)= {:.3f}'.format(cyr, (rev2br - rev1static) * 1e-9))"
   ]
  },
  {
   "cell_type": "code",
   "execution_count": null,
   "metadata": {},
   "outputs": [],
   "source": []
  }
 ],
 "metadata": {
  "kernelspec": {
   "display_name": "Python 3",
   "language": "python",
   "name": "python3"
  },
  "language_info": {
   "codemirror_mode": {
    "name": "ipython",
    "version": 3
   },
   "file_extension": ".py",
   "mimetype": "text/x-python",
   "name": "python",
   "nbconvert_exporter": "python",
   "pygments_lexer": "ipython3",
   "version": "3.7.5"
  }
 },
 "nbformat": 4,
 "nbformat_minor": 4
}
