{
 "cells": [
  {
   "cell_type": "code",
   "execution_count": null,
   "metadata": {},
   "outputs": [],
   "source": [
    "import os\n",
    "os.chdir(\"C:\\\\Users\\\\erin.melly\\\\Desktop\\\\GitHub\\\\Tax-Calculator\")\n",
    "import behresp\n",
    "from taxcalc import *\n",
    "import pandas as pd\n",
    "import numpy as np\n",
    "import copy"
   ]
  },
  {
   "cell_type": "code",
   "execution_count": null,
   "metadata": {},
   "outputs": [],
   "source": [
    "# read in PUF\n",
    "puf_df = pd.read_csv(r'C:\\Users\\erin.melly\\Desktop\\GitHub\\Tax-Calculator\\PUF.csv')"
   ]
  },
  {
   "cell_type": "code",
   "execution_count": null,
   "metadata": {},
   "outputs": [],
   "source": [
    "# create new variable for gains taxed at death in PUF\n",
    "\n",
    "# share of capital gains\n",
    "puf_df = puf_df.assign(ltgains_weight = (puf_df['p23250'] * puf_df['s006']) / sum(puf_df['p23250'] * puf_df['s006']))\n",
    "puf_df.loc[(puf_df['p23250'] > 0), 'ltgains_weight'] = (puf_df.loc[(puf_df['p23250'] > 0), 'p23250'] * puf_df.loc[(puf_df['p23250'] > 0), 's006']) \\\n",
    "/ sum(puf_df.loc[(puf_df['p23250'] > 0), 'p23250'] * puf_df.loc[(puf_df['p23250'] > 0), 's006'])\n",
    "# assign total realization at death revenue from JCT to taxpayers based on capital gains weight\n",
    "puf_df['gains_at_death'] = (puf_df['ltgains_weight'] * 215627184994) / (puf_df['s006'] / 100) # NOTE: change this value per JCT estimate, per year "
   ]
  },
  {
   "cell_type": "code",
   "execution_count": null,
   "metadata": {},
   "outputs": [],
   "source": [
    "cyr = 2022\n",
    "\n",
    "# current law\n",
    "rec = Records(data= puf_df)\n",
    "pol = Policy()\n",
    "calc= Calculator(pol, rec)\n",
    "calc.advance_to_year(cyr)\n",
    "calc.calc_all()\n",
    "df = calc.dataframe([], all_vars=True)\n",
    "rev1static = calc.weighted_total('combined')"
   ]
  },
  {
   "cell_type": "markdown",
   "metadata": {},
   "source": [
    "### dynamic -- behavioral responses"
   ]
  },
  {
   "cell_type": "code",
   "execution_count": null,
   "metadata": {},
   "outputs": [],
   "source": [
    "biden = {\n",
    "    #restore top brackets\n",
    "    \"II_brk5\": {2020: [416700.00, 416700.00, 208350.00, 416700.00, 416700.00]},\n",
    "    \"II_rt5\": {2020: 0.33},\n",
    "    \"II_brk6\": {2020: [418400.00, 470700.00, 235350.00, 444550.00, 470700.00]},\n",
    "    \"II_rt7\": {2020: 0.396},\n",
    "    \"PT_brk5\": {2020: [416700.00, 416700.00, 208350.00, 416700.00, 416700.00]},\n",
    "    \"PT_rt5\": {2020: 0.33},\n",
    "    \"PT_brk6\": {2020: [418400.00, 470700.00, 235350.00, 444550.00, 470700.00]},\n",
    "    \"PT_rt7\": {2020: 0.396},\n",
    "    # restore Pease limitations\n",
    "    \"ID_ps\": {2020: [261500.0, 313800.0, 156900.0, 287650.0, 313800.0]},\n",
    "    \"ID_prt\": {2020: 0.03},\n",
    "    \"ID_crt\": {2020: 0.8},\n",
    "    # Phase out section 199A for high-income\n",
    "    \"PT_qbid_taxinc_thd\": {2020: [400000.00, 400000.00, 400000.00, 400000.00, 400000.00]},\n",
    "    \"PT_qbid_taxinc_gap\": {2020: [100000.0, 100000.0, 100000.0, 100000.0, 100000.00]},\n",
    "    # tax capital gains as ordinary income above $10 million\n",
    "    \"CG_brk4\": {2020: [1000000, 1000000, 1000000, 1000000, 1000000]},\n",
    "    \"CG_rt3\": {2020: 0.396},\n",
    "    # capital gains realization at death\n",
    "    \"CG_TaxAtDeath\": {2020: True},\n",
    "    \"CG_exclusion_thd\": {2020: [100000, 200000, 100000, 100000, 200000]},\n",
    "    # extend childless EITC to workers above 65 years old\n",
    "    \"EITC_MaxEligAge\": {2020: 125},\n",
    "    # limit the value of ID to 28% of value\n",
    "    #\"ID_Biden_Limit\": {2020: True},\n",
    "    \"ID_BenefitSurtax_trt\": {2020: 1.0},\n",
    "    \"ID_BenefitSurtax_crt\": {2020: 0.28},\n",
    "    \"ID_BenefitSurtax_Switch\": {2020: [True, True, False, True, True, True, True]},\n",
    "    # apply earnings above $400K to OASDI tax\n",
    "    \"SS_Earnings_thd\": {2020: 400000},\n",
    "    # replace deductibility of IRA/DC pension contributions with 26% credit\n",
    "    \"ALD_IRAContributions_hc\": {2020: 1.0},\n",
    "    \"ALD_KEOGH_SEP_hc\": {2020: 1.0},\n",
    "    \"IRADC_credit_rt\": {2020: 0.26},\n",
    "    # reinstate energy efficiency credit\n",
    "    \"CR_ResidentialEnergy_hc\": {2020: 1.0}\n",
    "}"
   ]
  },
  {
   "cell_type": "code",
   "execution_count": null,
   "metadata": {},
   "outputs": [],
   "source": [
    "# specify Calculator object for static analysis of reform policy\n",
    "pol.implement_reform(biden)\n",
    "calc2 = Calculator(pol, rec)\n",
    "\n",
    "# calculate reform income tax liabilities for cyr under static assumptions\n",
    "calc2.advance_to_year(cyr)\n",
    "calc2.calc_all()\n",
    "rev2static = calc2.weighted_total('combined')\n",
    "\n",
    "# specify assumed non-zero response-function substitution elasticity\n",
    "response_elasticities = {'sub': 0.25,\n",
    "                         'cg': -3.488}\n",
    "\n",
    "# specify Calculator object for analysis of reform with behavioral responses\n",
    "calc2 = Calculator(policy=pol, records=rec)\n",
    "calc2.advance_to_year(cyr)\n",
    "_, df2br = behresp.response(calc, calc2, response_elasticities)\n",
    "\n",
    "# calculate reform income tax liabilities for cyr with behavioral response\n",
    "rev2br = (df2br['combined'] * df2br['s006']).sum()\n",
    "\n",
    "# print total income tax revenue estimates for cyr\n",
    "# (estimates in billons of dollars)\n",
    "print('{}_DYNAMIC_DIFERENCE_tot_rev($B)= {:.3f}'.format(cyr, (rev2br - rev1static) * 1e-9))"
   ]
  },
  {
   "cell_type": "code",
   "execution_count": null,
   "metadata": {},
   "outputs": [],
   "source": []
  }
 ],
 "metadata": {
  "kernelspec": {
   "display_name": "Python 3",
   "language": "python",
   "name": "python3"
  },
  "language_info": {
   "codemirror_mode": {
    "name": "ipython",
    "version": 3
   },
   "file_extension": ".py",
   "mimetype": "text/x-python",
   "name": "python",
   "nbconvert_exporter": "python",
   "pygments_lexer": "ipython3",
   "version": "3.7.5"
  }
 },
 "nbformat": 4,
 "nbformat_minor": 4
}
