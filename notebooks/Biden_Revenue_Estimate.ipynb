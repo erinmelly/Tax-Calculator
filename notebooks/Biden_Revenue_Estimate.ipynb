{
 "cells": [
  {
   "cell_type": "code",
   "execution_count": 1,
   "metadata": {},
   "outputs": [],
   "source": [
    "import os\n",
    "os.chdir(\"C:\\\\Users\\\\erin.melly\\\\Desktop\\\\GitHub\\\\Tax-Calculator\")\n",
    "import behresp\n",
    "from taxcalc import *\n",
    "import pandas as pd\n",
    "import numpy as np"
   ]
  },
  {
   "cell_type": "code",
   "execution_count": 2,
   "metadata": {},
   "outputs": [],
   "source": [
    "# Reform Stacking\n",
    "stack0={}\n",
    "stack1 = {\n",
    "    \"II_brk5\": {2021: [416700.00, 416700.00, 208350.00, 416700.00, 416700.00], \n",
    "                2026: [502101.0, 502101.0, 251050.0, 502101.0, 502101.0]}, \n",
    "    \"II_rt5\": {2021: 0.33},\n",
    "    \"II_brk6\": {2021: [418400.00, 470700.00, 235350.00, 444550.00, 470700.00],\n",
    "                2026: [504149.0, 567168.0, 283584.0, 535659.0, 567168.0]},\n",
    "    \"II_rt7\": {2021: 0.396},\n",
    "    \"PT_brk5\": {2021: [416700.00, 416700.00, 208350.00, 416700.00, 416700.00],\n",
    "                2026: [502101.0, 502101.0, 251050.0, 502101.0, 502101.0]},\n",
    "    \"PT_rt5\": {2021: 0.33},\n",
    "    \"PT_brk6\": {2021: [418400.00, 470700.00, 235350.00, 444550.00, 470700.00],\n",
    "                2026: [504149.0, 567168.0, 283584.0, 535659.0, 567168.0]},\n",
    "    \"PT_rt7\": {2021: 0.396},\n",
    "    \"ID_ps\": {2021: [261500.0, 313800.0, 156900.0, 287650.0, 313800.0],\n",
    "                2026: [315093.0, 378112.0, 189056.0, 346603.0, 378112.0]}\n",
    "}\n",
    "stack2={\n",
    "    \"ID_prt\": {2021: 0.03},\n",
    "    \"ID_crt\": {2021: 0.8}\n",
    "}\n",
    "stack3={\n",
    "    \"PT_qbid_taxinc_thd\": {2021: [400000.00, 400000.00, 400000.00, 400000.00, 400000.00],\n",
    "                            2026: [0.0, 0.0, 0.0, 0.0, 0.0]},\n",
    "    \"PT_qbid_taxinc_gap\": {2021: [100000.0, 100000.0, 100000.0, 100000.0, 100000.00],\n",
    "                            2026: [1.0, 1.0, 1.0, 1.0, 1.0]}\n",
    "}\n",
    "stack4={\n",
    "    \"CG_brk4\": {2021: [1000000, 1000000, 1000000, 1000000, 1000000]},\n",
    "    \"CG_rt3\": {2021: 0.396},\n",
    "    \"CG_TaxAtDeath\": {2021: True},\n",
    "    \"CG_exclusion_thd\": {2021: [100000, 200000, 100000, 100000, 200000]}\n",
    "}\n",
    "stack5 ={\n",
    "    \"EITC_MaxEligAge\": {2021: 125}\n",
    "}\n",
    "stack6={\n",
    "    \"ID_BenefitSurtax_trt\": {2021: 1.0},\n",
    "    \"ID_BenefitSurtax_crt\": {2021: 0.28},\n",
    "    \"ID_BenefitSurtax_Switch\": {2021: [True, True, False, True, True, True, True]}\n",
    "}\n",
    "stack7={\n",
    "    \"SS_Earnings_thd\": {2021: 400000}\n",
    "}\n",
    "stack8={\n",
    "    \"ALD_IRAContributions_hc\": {2021: 1.0},\n",
    "    \"ALD_KEOGH_SEP_hc\": {2021: 1.0},\n",
    "    \"IRADC_credit_rt\": {2021: 0.26}\n",
    "}\n",
    "stack9={\n",
    "    \"CR_ResidentialEnergy_hc\": {2021: 0.0}\n",
    "}"
   ]
  },
  {
   "cell_type": "code",
   "execution_count": 3,
   "metadata": {},
   "outputs": [],
   "source": [
    "# Elasticity Assumpitions\n",
    "cg= {2021: -4.184,\n",
    "     2022: -3.488,\n",
    "     2023: -2.76,\n",
    "     2024: -2.76,\n",
    "     2025: -2.76,\n",
    "     2026: -2.76,\n",
    "     2027: -2.76,\n",
    "     2028: -2.76,\n",
    "     2029: -2.76,\n",
    "     2030: -2.76\n",
    "    }"
   ]
  },
  {
   "cell_type": "code",
   "execution_count": 4,
   "metadata": {},
   "outputs": [],
   "source": [
    "# Create Reform Lists, Set Records, Create Index Labels\n",
    "refs_biden = [stack1, stack2, stack3, stack4, stack5, stack6, stack7, stack8, stack9]\n",
    "refs_base = [stack0, stack1, stack2, stack3, stack4, stack5, stack6, stack7, stack8]\n",
    "rec = Records()\n",
    "df = pd.DataFrame(index=[\"Restore pre-TCJA rates and brackets above $400,000 of income\",\n",
    "                         \"Restore limitation on itemized deductions above $400,000 of income (Pease limitation)\",\n",
    "                         \"Phase-out Section 199A Deduction for taxpayers above $400,000\",\n",
    "                         \"Tax capital gains & dividends at ordinary income rates above $1 million of income & tax at death\",\n",
    "                         \"Extend the EITC to childless workers age 65 and older\",\n",
    "                         \"Limit tax benefit of itemized deductions to 28 percent of value\",\n",
    "                         \"Apply 12.4 percent OASDI payroll tax to eranings above $400,000\",\n",
    "                         \"Replace IRA/DC pension contribution deductibility with 26% refundable credit\",\n",
    "                         \"Reinstate energy efficiency credit\"])"
   ]
  },
  {
   "cell_type": "code",
   "execution_count": null,
   "metadata": {},
   "outputs": [],
   "source": [
    "for year in range(2021, 2031):\n",
    "    pol_base = Policy()\n",
    "    pol_ref = Policy()\n",
    "    col=[] \n",
    "    response_elasticities = {'sub': 0.25, 'cg': cg[year]}\n",
    "    for (ref_biden, ref_base) in zip(refs_biden, refs_base):\n",
    "        pol_base.implement_reform(ref_base)\n",
    "        calc_base=Calculator(pol_base, rec)\n",
    "        calc_base.advance_to_year(year)\n",
    "        pol_ref.implement_reform(ref_biden)\n",
    "        calc_ref=Calculator(pol_ref, rec)\n",
    "        calc_ref.advance_to_year(year)\n",
    "        calc_ref.calc_all()\n",
    "        base_df, ref_df = behresp.response(calc_base, calc_ref, response_elasticities)\n",
    "        base_rev= (base_df['combined'] * base_df['s006']).sum()/1e9\n",
    "        ref_rev = (ref_df['combined'] * ref_df['s006']).sum()/1e9\n",
    "        dif_rev = ref_rev - base_rev\n",
    "        col.append(round(dif_rev,2))\n",
    "    df[year] = col"
   ]
  },
  {
   "cell_type": "code",
   "execution_count": null,
   "metadata": {},
   "outputs": [],
   "source": [
    "#Final Revenue Table\n",
    "df_final = df.append(df.sum().rename('Total'))\n",
    "df_final"
   ]
  },
  {
   "cell_type": "code",
   "execution_count": null,
   "metadata": {},
   "outputs": [],
   "source": []
  }
 ],
 "metadata": {
  "kernelspec": {
   "display_name": "Python 3",
   "language": "python",
   "name": "python3"
  },
  "language_info": {
   "codemirror_mode": {
    "name": "ipython",
    "version": 3
   },
   "file_extension": ".py",
   "mimetype": "text/x-python",
   "name": "python",
   "nbconvert_exporter": "python",
   "pygments_lexer": "ipython3",
   "version": "3.7.5"
  }
 },
 "nbformat": 4,
 "nbformat_minor": 4
}
