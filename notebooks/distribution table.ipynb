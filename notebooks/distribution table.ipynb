{
 "cells": [
  {
   "cell_type": "code",
   "execution_count": null,
   "metadata": {},
   "outputs": [],
   "source": [
    "import os\n",
    "os.chdir(\"C:\\\\Users\\\\erin.melly\\\\Desktop\\\\GitHub\\\\Tax-Calculator\")\n",
    "from behresp import *\n",
    "from taxcalc import *\n",
    "import pandas as pd\n",
    "import numpy as np"
   ]
  },
  {
   "cell_type": "code",
   "execution_count": null,
   "metadata": {},
   "outputs": [],
   "source": [
    "# dictionary of assumed elasticity each year\n",
    "cg= {2021: -4.184, 2022: -3.488, 2023: -2.76, \n",
    "     2024: -2.76, 2025: -2.76, 2026: -2.76, \n",
    "     2027: -2.76, 2028: -2.76, 2029: -2.76, \n",
    "     2030: -2.76\n",
    "    }"
   ]
  },
  {
   "cell_type": "code",
   "execution_count": null,
   "metadata": {},
   "outputs": [],
   "source": [
    "def create_biden_distribution_table(cyr, taxref, group):\n",
    "    assert taxref in ['individual', 'individual_business']\n",
    "    assert group in ['standard_income_bins', 'weighted_deciles']\n",
    "    assert cyr in range(2021, 2031)\n",
    "    if taxref=='individual':\n",
    "        # baseline\n",
    "        rec = Records()\n",
    "        pol = Policy()\n",
    "        calc_base=Calculator(pol, rec)\n",
    "        calc_base.advance_to_year(cyr)\n",
    "        calc_base.calc_all()\n",
    "        #reform\n",
    "        rec = Records()\n",
    "        pol = Policy()\n",
    "        pol.implement_reform(Policy.read_json_reform('taxcalc\\\\reforms\\\\Biden.json'))\n",
    "        calc_ref= Calculator(pol, rec)\n",
    "        calc_ref.advance_to_year(cyr)\n",
    "        calc_ref.calc_all()\n",
    "    else:\n",
    "        # baseline\n",
    "        rec = Records()\n",
    "        pol = Policy()\n",
    "        baseline={\n",
    "            \"Business_Effect_Table_expinc\": {cyr: True}\n",
    "        }\n",
    "        pol.implement_reform(baseline)\n",
    "        calc_base= Calculator(pol, rec)\n",
    "        calc_base.advance_to_year(cyr)\n",
    "        calc_base.calc_all()\n",
    "        # reform\n",
    "        rec = Records()\n",
    "        pol = Policy()\n",
    "        pol.implement_reform(Policy.read_json_reform('taxcalc\\\\reforms\\\\Biden_with_business.json'))\n",
    "        calc_ref= Calculator(pol, rec)\n",
    "        calc_ref.advance_to_year(cyr)\n",
    "        calc_ref.calc_all()   \n",
    "    # implement behavioral responses\n",
    "    response_elasticities = {'sub': 0.25, 'cg': cg[cyr]}\n",
    "    base_df, ref_df = response(calc_base, calc_ref, response_elasticities, chg_inc=True)\n",
    "    # create difference table (1)\n",
    "    vdf1 = base_df[DIFF_VARIABLES]\n",
    "    vdf2 = ref_df[DIFF_VARIABLES]\n",
    "    distdf1 = create_difference_table(vdf1, vdf2, groupby=group, tax_to_diff='combined', pop_quantiles=False)\n",
    "    # create difference table (2) [only use the pc_aftertaxinc column from this distribution table]\n",
    "    response_elasticities = {'sub': 0.25, 'cg': cg[cyr]}\n",
    "    base_df, ref_df = response(calc_base, calc_ref, response_elasticities, chg_inc=False)\n",
    "    vdf1 = base_df[DIFF_VARIABLES]\n",
    "    vdf2 = ref_df[DIFF_VARIABLES]\n",
    "    distdf2 = create_difference_table(vdf1, vdf2, groupby=group, tax_to_diff='combined', pop_quantiles=False)\n",
    "    # append pc_aftertaxinc from dataframe 2 and delete unused columns\n",
    "    df = distdf1.assign(pch_chg_inc = distdf2['pc_aftertaxinc'])\n",
    "    table = df.drop(['ubi', 'benefit_cost_total', 'benefit_value_total', 'pc_aftertaxinc', 'count', 'tax_cut',\n",
    "                    'perc_cut', 'tax_inc', 'perc_inc', 'tot_change'], axis=1)\n",
    "    # final table, by standard income bin\n",
    "    return table"
   ]
  },
  {
   "cell_type": "markdown",
   "metadata": {},
   "source": [
    "#### TABLE 3: TOTAL BURDEN: INDIVIDUAL AND BUSINESS REFORMS"
   ]
  },
  {
   "cell_type": "code",
   "execution_count": null,
   "metadata": {},
   "outputs": [],
   "source": [
    "create_biden_distribution_table(cyr=2021, taxref='individual_business', group='weighted_deciles')"
   ]
  },
  {
   "cell_type": "code",
   "execution_count": null,
   "metadata": {},
   "outputs": [],
   "source": [
    "create_biden_distribution_table(cyr=2030, taxref='individual_business', group='weighted_deciles')"
   ]
  },
  {
   "cell_type": "markdown",
   "metadata": {},
   "source": [
    "\n",
    "#### INDIVIDUAL REFORMS"
   ]
  },
  {
   "cell_type": "code",
   "execution_count": null,
   "metadata": {},
   "outputs": [],
   "source": [
    "create_biden_distribution_table(cyr=2021, taxref='individual', group='weigted_deciles')"
   ]
  },
  {
   "cell_type": "code",
   "execution_count": null,
   "metadata": {},
   "outputs": [],
   "source": [
    "create_biden_distribution_table(cyr=2030, taxref='individual', group='weigted_deciles')"
   ]
  }
 ],
 "metadata": {
  "kernelspec": {
   "display_name": "Python 3",
   "language": "python",
   "name": "python3"
  },
  "language_info": {
   "codemirror_mode": {
    "name": "ipython",
    "version": 3
   },
   "file_extension": ".py",
   "mimetype": "text/x-python",
   "name": "python",
   "nbconvert_exporter": "python",
   "pygments_lexer": "ipython3",
   "version": "3.7.5"
  }
 },
 "nbformat": 4,
 "nbformat_minor": 4
}
